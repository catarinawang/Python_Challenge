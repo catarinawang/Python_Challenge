{
 "cells": [
  {
   "cell_type": "code",
   "execution_count": 1,
   "id": "6fc15103",
   "metadata": {},
   "outputs": [],
   "source": [
    "import pandas as pd"
   ]
  },
  {
   "cell_type": "code",
   "execution_count": 2,
   "id": "9205ab38",
   "metadata": {},
   "outputs": [],
   "source": [
    "df= pd.read_csv('sales_dataset.csv')"
   ]
  },
  {
   "cell_type": "code",
   "execution_count": 3,
   "id": "9ec30589",
   "metadata": {},
   "outputs": [
    {
     "name": "stdout",
     "output_type": "stream",
     "text": [
      "                Product Name     Category  Sale Price  Quantity Sold  \\\n",
      "0                   T-shirts     Clothing       10.99             20   \n",
      "1               Levi's Jeans     Clothing       59.99             18   \n",
      "2               Dyson Vacuum         Home      599.99              2   \n",
      "3                 Sunglasses  Accessories       21.22             15   \n",
      "4                 Headphones  Electronics        8.99             40   \n",
      "5              Water bottles  Accessories       14.14             22   \n",
      "6                  Backpacks  Accessories       18.99             27   \n",
      "7                       Hats  Accessories       29.99             35   \n",
      "8                      Books        Media       11.99             18   \n",
      "9                       Toys         Toys       17.99             29   \n",
      "10                    Apples         Food       10.99             32   \n",
      "11                Lawn mower      Outdoor      123.99             24   \n",
      "12            Samsung Galaxy  Electronics      899.99              5   \n",
      "13                 iPhone 13  Electronics     1299.99              3   \n",
      "14        Lululemon Yoga Mat      Fitness       89.99             15   \n",
      "15            Picture frames   Home decor       41.99              2   \n",
      "16                   Candles   Home decor        3.49             19   \n",
      "17               Apple Watch  Electronics      399.99              4   \n",
      "18         Oakley Sunglasses  Accessories      149.99             12   \n",
      "19           Fitbit Charge 5      Fitness      149.99              9   \n",
      "20              Harry Potter        Media       15.99             25   \n",
      "21               Phone cases  Electronics       12.04             25   \n",
      "22           Nest Thermostat         Home      249.99              6   \n",
      "23        Sony PlayStation 5  Electronics      499.99              4   \n",
      "24      Michael Kors Handbag  Accessories      349.99              8   \n",
      "25             Ninja Blender      Kitchen      129.99             10   \n",
      "26      Under Armour T-Shirt     Clothing       29.99             30   \n",
      "27           Amazon Echo Dot  Electronics       39.99             20   \n",
      "28          Patagonia Fleece     Clothing      119.99              6   \n",
      "29     Schwinn Exercise Bike      Fitness      499.99              3   \n",
      "30  Cuisinart Food Processor      Kitchen      199.99              4   \n",
      "31      iRobot Roomba Vacuum         Home      399.99              2   \n",
      "32            Sonos Soundbar  Electronics      799.99              1   \n",
      "\n",
      "        Month    Customer Name  \n",
      "0    December       John Smith  \n",
      "1       April   Samantha Davis  \n",
      "2      August   David Williams  \n",
      "3         May   Kelly Williams  \n",
      "4     October      Chris Brown  \n",
      "5      August          Amy Lee  \n",
      "6        July    William Smith  \n",
      "7   September      Emily Davis  \n",
      "8       March   Robert Johnson  \n",
      "9    December   Kimberly White  \n",
      "10       June  Michael Johnson  \n",
      "11   November   Samantha Davis  \n",
      "12  February          Jane Doe  \n",
      "13   December     Mark Johnson  \n",
      "14      April   Kelly Williams  \n",
      "15     August   Sarah Anderson  \n",
      "16   November        Kevin Lee  \n",
      "17  February    Robert Johnson  \n",
      "18       July   Kimberly White  \n",
      "19  September  Michael Johnson  \n",
      "20  February        John Smith  \n",
      "21        May     Mark Johnson  \n",
      "22       June  Elizabeth Brown  \n",
      "23   November       John Smith  \n",
      "24       July         Jane Doe  \n",
      "25      March      Chris Brown  \n",
      "26   December          Amy Lee  \n",
      "27      March      Emily Davis  \n",
      "28        May   Robert Johnson  \n",
      "29  September  Michael Johnson  \n",
      "30   December   Samantha Davis  \n",
      "31      April   David Williams  \n",
      "32     August  Elizabeth Brown  \n"
     ]
    }
   ],
   "source": [
    "print(df)"
   ]
  },
  {
   "cell_type": "code",
   "execution_count": 4,
   "id": "a44ec87c",
   "metadata": {},
   "outputs": [],
   "source": [
    "import statistics"
   ]
  },
  {
   "cell_type": "code",
   "execution_count": null,
   "id": "476fc560",
   "metadata": {},
   "outputs": [],
   "source": []
  }
 ],
 "metadata": {
  "kernelspec": {
   "display_name": "Python 3 (ipykernel)",
   "language": "python",
   "name": "python3"
  },
  "language_info": {
   "codemirror_mode": {
    "name": "ipython",
    "version": 3
   },
   "file_extension": ".py",
   "mimetype": "text/x-python",
   "name": "python",
   "nbconvert_exporter": "python",
   "pygments_lexer": "ipython3",
   "version": "3.9.13"
  }
 },
 "nbformat": 4,
 "nbformat_minor": 5
}
